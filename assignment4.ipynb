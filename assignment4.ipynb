{
 "cells": [
  {
   "cell_type": "code",
   "execution_count": 7,
   "id": "3c2632f8-4326-4b81-8639-1ec09839c26b",
   "metadata": {},
   "outputs": [],
   "source": [
    "#QUS1\n",
    "\n",
    "# def keyword is used to create a function.\n",
    "\n",
    "def listofodd():\n",
    "    L1=[]\n",
    "    \n",
    "    for i in range(1,25):\n",
    "        if i%2!=0:\n",
    "            L1.append(i)\n",
    "    return L1\n",
    "            \n",
    "               \n",
    "        \n",
    "    "
   ]
  },
  {
   "cell_type": "code",
   "execution_count": 8,
   "id": "44737aaa-de1c-4213-9832-4a449865eda9",
   "metadata": {},
   "outputs": [
    {
     "data": {
      "text/plain": [
       "[1, 3, 5, 7, 9, 11, 13, 15, 17, 19, 21, 23]"
      ]
     },
     "execution_count": 8,
     "metadata": {},
     "output_type": "execute_result"
    }
   ],
   "source": [
    "listofodd()"
   ]
  },
  {
   "cell_type": "code",
   "execution_count": 7,
   "id": "f08aef9e-0f0f-4970-8da8-7c2f9d280778",
   "metadata": {},
   "outputs": [],
   "source": [
    "#QUS2\n",
    "\n",
    "# We use *args and **kwargs as an argument when we are unsure about the number of arguments to pass in the functions.\n",
    "# *args and **kwargs are special keyword which allows function to take variable length argument.\n",
    "# *args passes variable number of non-keyworded arguments and on which operation of the tuple can be performed.\n",
    "# **kwargs passes variable number of keyword arguments dictionary to function on which operation of a dictionary can be performed.\n",
    "# *args and **kwargs make the function flexible.\n",
    "\n",
    "#Example of *args\n",
    "\n",
    "def add(*num):\n",
    "    sum=0\n",
    "    for n in num:\n",
    "        sum=sum+n\n",
    "        \n",
    "    print(\"sum:\",sum)"
   ]
  },
  {
   "cell_type": "code",
   "execution_count": 8,
   "id": "12ad2b1f-3300-4db6-902b-ba3210a72819",
   "metadata": {},
   "outputs": [
    {
     "name": "stdout",
     "output_type": "stream",
     "text": [
      "sum: 17\n",
      "sum: 8078\n",
      "sum: 77.14\n"
     ]
    }
   ],
   "source": [
    "add(3,5,9)\n",
    "add(654,98,786,6540)\n",
    "add(0.34,76.8)"
   ]
  },
  {
   "cell_type": "code",
   "execution_count": 18,
   "id": "676bf4da-8dc8-460e-8f8b-92463c15d673",
   "metadata": {},
   "outputs": [],
   "source": [
    "#Example of **kwargs\n",
    "\n",
    "def intro(**data):\n",
    "    print(type(data))\n",
    "    \n",
    "    for k ,v in data.items():\n",
    "        print(\" {} is {} \".format(k,v))\n",
    "        "
   ]
  },
  {
   "cell_type": "code",
   "execution_count": 19,
   "id": "08bddf89-1946-4f98-b0bf-53b1c6e89c20",
   "metadata": {},
   "outputs": [
    {
     "name": "stdout",
     "output_type": "stream",
     "text": [
      "<class 'dict'>\n",
      " Name is Yogendra Kumar \n",
      " PhoneNo is 9690449909 \n",
      " Age is 21 \n",
      "<class 'dict'>\n",
      " Name is Suraj Pratap Singh \n",
      " PhoneNo is 7534908392 \n",
      " Age is 20 \n"
     ]
    }
   ],
   "source": [
    "intro(Name=\"Yogendra Kumar\" , PhoneNo=\"9690449909\" , Age=\"21\")\n",
    "intro(Name=\"Suraj Pratap Singh\" , PhoneNo=\"7534908392\" , Age=\"20\")"
   ]
  },
  {
   "cell_type": "code",
   "execution_count": 22,
   "id": "a5103e19-ae85-4e02-b986-0b2d1ee4f3c8",
   "metadata": {},
   "outputs": [
    {
     "name": "stdout",
     "output_type": "stream",
     "text": [
      "2\n",
      "4\n",
      "6\n",
      "8\n",
      "10\n"
     ]
    }
   ],
   "source": [
    "#QUS3\n",
    "\n",
    "# Repetitive execution of the same block of code over and over is referred to as iteration. \n",
    "# There are two types of iteration: Definite iteration, in which the number of repetitions is specified explicitly in advance.\n",
    "# Indefinite iteration, in which the code block executes until some condition is met.\n",
    "\n",
    "# The iterator object is initialized using the iter() method. It uses the next() method for iteration.\n",
    "\n",
    "l1 = [2,4,6,8,10,12,14,16,18,20]\n",
    "count=0\n",
    "\n",
    "for i in l1:\n",
    "    if count<5:\n",
    "        print(i)\n",
    "        count=count+1"
   ]
  },
  {
   "cell_type": "code",
   "execution_count": 41,
   "id": "8340eea9-c5e2-40e5-9f41-ea175db8e96e",
   "metadata": {},
   "outputs": [],
   "source": [
    "#QUS4\n",
    "\n",
    "# Genrator function??\n",
    "\n",
    "# a generator is a function that returns an iterator that produces a sequence of values when iterated over.\n",
    "# Generators are useful when we want to produce a large sequence of values, but we don't want to store all of them in memory at once.\n",
    "\n",
    "# why yield keyword is used ??\n",
    "\n",
    "# The yield keyword in Python controls the flow of a generator function. \n",
    "# This is similar to a return statement used for returning values in Python.\n",
    "\n",
    "# Example\n",
    "\n",
    "def squareofsequence(x):\n",
    "    \n",
    "    for i in range (x):\n",
    "        yield i*i\n",
    "        \n",
    "        \n",
    "    \n",
    "\n",
    "\n"
   ]
  },
  {
   "cell_type": "code",
   "execution_count": 42,
   "id": "2689c469-1997-4425-9dc7-66bb4fe90d48",
   "metadata": {},
   "outputs": [
    {
     "name": "stdout",
     "output_type": "stream",
     "text": [
      "0\n",
      "1\n",
      "4\n",
      "9\n",
      "16\n",
      "25\n"
     ]
    }
   ],
   "source": [
    "num= squareofsequence(6)\n",
    "\n",
    "for sqr in num:\n",
    "    print(sqr)"
   ]
  },
  {
   "cell_type": "code",
   "execution_count": 5,
   "id": "30408d45-4853-44f4-af2f-91ce8e12c96d",
   "metadata": {},
   "outputs": [],
   "source": [
    "#QUS5\n",
    "\n",
    "def primes():\n",
    "\n",
    "    yield 2\n",
    "    primeslist = [2]\n",
    "    for i in range(3, 1000):\n",
    "        isprime = True\n",
    "        for prime in primeslist:\n",
    "            if i % prime == 0:\n",
    "                isprime = False\n",
    "                break\n",
    "        if isprime:\n",
    "            primeslist.append(i)\n",
    "            yield i\n",
    "\n"
   ]
  },
  {
   "cell_type": "code",
   "execution_count": 6,
   "id": "6a8d064f-596b-411b-b1be-a2ab59e9ce74",
   "metadata": {},
   "outputs": [
    {
     "name": "stdout",
     "output_type": "stream",
     "text": [
      "2\n",
      "3\n",
      "5\n",
      "7\n",
      "11\n",
      "13\n",
      "17\n",
      "19\n",
      "23\n",
      "29\n",
      "31\n",
      "37\n",
      "41\n",
      "43\n",
      "47\n",
      "53\n",
      "59\n",
      "61\n",
      "67\n",
      "71\n"
     ]
    }
   ],
   "source": [
    "primegen = primes()\n",
    "\n",
    "for i in range(20):\n",
    "    print(next(primegen))"
   ]
  },
  {
   "cell_type": "code",
   "execution_count": 55,
   "id": "c1888d59-2d15-4615-8410-b8de440a42be",
   "metadata": {},
   "outputs": [
    {
     "name": "stdout",
     "output_type": "stream",
     "text": [
      "0\n",
      "1\n",
      "1\n",
      "2\n",
      "3\n",
      "5\n",
      "8\n",
      "13\n",
      "21\n",
      "34\n"
     ]
    }
   ],
   "source": [
    "#QUS6\n",
    "\n",
    "    \n",
    "a=0\n",
    "b=1\n",
    "count=0\n",
    "\n",
    "while count<10:\n",
    "    print(a)\n",
    "    c=a+b\n",
    "    a=b\n",
    "    b=c\n",
    "    count=count+1\n",
    "    \n",
    "    \n",
    "\n"
   ]
  },
  {
   "cell_type": "code",
   "execution_count": 62,
   "id": "7889277d-e1ae-4c3b-b4a3-669a74f547b4",
   "metadata": {},
   "outputs": [
    {
     "name": "stdout",
     "output_type": "stream",
     "text": [
      "['p', 'w', 's', 'k', 'i', 'l', 'l', 's']\n"
     ]
    }
   ],
   "source": [
    "#QUS7\n",
    "\n",
    "\n",
    "string=\"pwskills\"\n",
    "output=[char for char in string]\n",
    "print(output)\n"
   ]
  },
  {
   "cell_type": "code",
   "execution_count": 14,
   "id": "4e844a12-3b9d-4c1f-b1b7-ab91ee9e5869",
   "metadata": {},
   "outputs": [
    {
     "name": "stdin",
     "output_type": "stream",
     "text": [
      "Please give a number :  676\n"
     ]
    },
    {
     "name": "stdout",
     "output_type": "stream",
     "text": [
      "Given number is a palindrome\n"
     ]
    }
   ],
   "source": [
    "#QUS8\n",
    "\n",
    "n = int(input(\"Please give a number : \"))\n",
    "def reverse(num):\n",
    "    if num<10:\n",
    "      return num \n",
    "    else:\n",
    "      return int(str(num%10) + str(reverse(num//10)))\n",
    "def isPalindrome(num):\n",
    "    if num == reverse(num):\n",
    "        return 1\n",
    "    return 0\n",
    "if isPalindrome(n) == 1:\n",
    "    print(\"Given number is a palindrome\")\n",
    "else:\n",
    "    print(\"Given number is a not palindrome\")"
   ]
  },
  {
   "cell_type": "code",
   "execution_count": 9,
   "id": "51cafa6e-de54-41be-99e7-8c14594ffe8c",
   "metadata": {},
   "outputs": [
    {
     "data": {
      "text/plain": [
       "[1,\n",
       " 2,\n",
       " 3,\n",
       " 4,\n",
       " 5,\n",
       " 6,\n",
       " 7,\n",
       " 8,\n",
       " 9,\n",
       " 10,\n",
       " 11,\n",
       " 12,\n",
       " 13,\n",
       " 14,\n",
       " 15,\n",
       " 16,\n",
       " 17,\n",
       " 18,\n",
       " 19,\n",
       " 20,\n",
       " 21,\n",
       " 22,\n",
       " 23,\n",
       " 24,\n",
       " 25,\n",
       " 26,\n",
       " 27,\n",
       " 28,\n",
       " 29,\n",
       " 30,\n",
       " 31,\n",
       " 32,\n",
       " 33,\n",
       " 34,\n",
       " 35,\n",
       " 36,\n",
       " 37,\n",
       " 38,\n",
       " 39,\n",
       " 40,\n",
       " 41,\n",
       " 42,\n",
       " 43,\n",
       " 44,\n",
       " 45,\n",
       " 46,\n",
       " 47,\n",
       " 48,\n",
       " 49,\n",
       " 50,\n",
       " 51,\n",
       " 52,\n",
       " 53,\n",
       " 54,\n",
       " 55,\n",
       " 56,\n",
       " 57,\n",
       " 58,\n",
       " 59,\n",
       " 60,\n",
       " 61,\n",
       " 62,\n",
       " 63,\n",
       " 64,\n",
       " 65,\n",
       " 66,\n",
       " 67,\n",
       " 68,\n",
       " 69,\n",
       " 70,\n",
       " 71,\n",
       " 72,\n",
       " 73,\n",
       " 74,\n",
       " 75,\n",
       " 76,\n",
       " 77,\n",
       " 78,\n",
       " 79,\n",
       " 80,\n",
       " 81,\n",
       " 82,\n",
       " 83,\n",
       " 84,\n",
       " 85,\n",
       " 86,\n",
       " 87,\n",
       " 88,\n",
       " 89,\n",
       " 90,\n",
       " 91,\n",
       " 92,\n",
       " 93,\n",
       " 94,\n",
       " 95,\n",
       " 96,\n",
       " 97,\n",
       " 98,\n",
       " 99,\n",
       " 100]"
      ]
     },
     "execution_count": 9,
     "metadata": {},
     "output_type": "execute_result"
    }
   ],
   "source": [
    "#QUS9\n",
    "\n",
    "[i for i in range (1,101)]"
   ]
  },
  {
   "cell_type": "code",
   "execution_count": 12,
   "id": "88fce03b-559c-4d3e-bdfa-35641db6ff9d",
   "metadata": {},
   "outputs": [
    {
     "data": {
      "text/plain": [
       "[1,\n",
       " 3,\n",
       " 5,\n",
       " 7,\n",
       " 9,\n",
       " 11,\n",
       " 13,\n",
       " 15,\n",
       " 17,\n",
       " 19,\n",
       " 21,\n",
       " 23,\n",
       " 25,\n",
       " 27,\n",
       " 29,\n",
       " 31,\n",
       " 33,\n",
       " 35,\n",
       " 37,\n",
       " 39,\n",
       " 41,\n",
       " 43,\n",
       " 45,\n",
       " 47,\n",
       " 49,\n",
       " 51,\n",
       " 53,\n",
       " 55,\n",
       " 57,\n",
       " 59,\n",
       " 61,\n",
       " 63,\n",
       " 65,\n",
       " 67,\n",
       " 69,\n",
       " 71,\n",
       " 73,\n",
       " 75,\n",
       " 77,\n",
       " 79,\n",
       " 81,\n",
       " 83,\n",
       " 85,\n",
       " 87,\n",
       " 89,\n",
       " 91,\n",
       " 93,\n",
       " 95,\n",
       " 97,\n",
       " 99]"
      ]
     },
     "execution_count": 12,
     "metadata": {},
     "output_type": "execute_result"
    }
   ],
   "source": [
    "[i for i in range (1,100) if i%2!=0]"
   ]
  }
 ],
 "metadata": {
  "kernelspec": {
   "display_name": "Python 3 (ipykernel)",
   "language": "python",
   "name": "python3"
  },
  "language_info": {
   "codemirror_mode": {
    "name": "ipython",
    "version": 3
   },
   "file_extension": ".py",
   "mimetype": "text/x-python",
   "name": "python",
   "nbconvert_exporter": "python",
   "pygments_lexer": "ipython3",
   "version": "3.10.8"
  }
 },
 "nbformat": 4,
 "nbformat_minor": 5
}
